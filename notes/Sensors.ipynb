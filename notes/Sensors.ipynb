{
 "cells": [
  {
   "cell_type": "markdown",
   "id": "broken-december",
   "metadata": {},
   "source": [
    "### Sensors:\n",
    "* Sensors are special types of operators whose purpose is to wait on some external or internal trigger. These are commonly used to trigger some or all of the DAG, based on the occurrence of some external event. \n",
    "\n",
    "#### Types of sensors:\n",
    "    airflow.sensors.base\n",
    "    airflow.sensors.base_sensor_operator\n",
    "    airflow.sensors.bash\n",
    "    airflow.sensors.date_time\n",
    "    airflow.sensors.date_time_sensor\n",
    "    airflow.sensors.external_task\n",
    "    airflow.sensors.external_task_sensor\n",
    "    airflow.sensors.filesystem\n",
    "    airflow.sensors.hdfs_sensor\n",
    "    airflow.sensors.hive_partition_sensor\n",
    "    airflow.sensors.http_sensor\n",
    "    airflow.sensors.metastore_partition_sensor\n",
    "    airflow.sensors.named_hive_partition_sensor\n",
    "    airflow.sensors.python\n",
    "    airflow.sensors.s3_key_sensor\n",
    "    airflow.sensors.s3_prefix_sensor\n",
    "    airflow.sensors.smart_sensor\n",
    "    airflow.sensors.sql\n",
    "    airflow.sensors.sql_sensor\n",
    "    airflow.sensors.time_delta\n",
    "    airflow.sensors.time_delta_sensor\n",
    "    airflow.sensors.time_sensor\n",
    "    airflow.sensors.web_hdfs_sensor\n",
    "    airflow.sensors.weekday"
   ]
  },
  {
   "cell_type": "code",
   "execution_count": null,
   "id": "knowing-timing",
   "metadata": {},
   "outputs": [],
   "source": [
    "from airflow import DAG\n",
    "from airflow.providers.http.sensors.http import HttpSensor\n",
    "from airflow.operators.bash import BashOperator\n",
    "from datetime import timedelta\n",
    "from airflow.utils.dates import days_ago\n",
    "\n",
    "with DAG(dag_id=\"SensorExample\", start_date=days_ago(1), schedule_interval=\"@daily\", catchup=False) as dag:\n",
    "    sensor = HttpSensor(\n",
    "        task_id=\"httpsensor\",\n",
    "        endpoint=\"/\",\n",
    "        http_conn_id=\"http_conn\",\n",
    "        retries=5,\n",
    "        retry_delay=timedelta(seconds=3)\n",
    "    )\n",
    "    task1 = BashOperator(\n",
    "        task_id=\"task1\",\n",
    "        bash_command=\"echo hello task1\"\n",
    "    )\n",
    "    task2 = BashOperator(\n",
    "        task_id=\"task2\",\n",
    "        bash_command=\"echo hello task2\"\n",
    "    )\n",
    "\n",
    "    sensor >> [task1, task2]\n"
   ]
  }
 ],
 "metadata": {
  "kernelspec": {
   "display_name": "Python 3",
   "language": "python",
   "name": "python3"
  },
  "language_info": {
   "codemirror_mode": {
    "name": "ipython",
    "version": 3
   },
   "file_extension": ".py",
   "mimetype": "text/x-python",
   "name": "python",
   "nbconvert_exporter": "python",
   "pygments_lexer": "ipython3",
   "version": "3.9.0"
  }
 },
 "nbformat": 4,
 "nbformat_minor": 5
}
