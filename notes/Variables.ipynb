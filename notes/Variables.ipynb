{
 "cells": [
  {
   "cell_type": "markdown",
   "id": "built-deployment",
   "metadata": {},
   "source": [
    "##### Variables:\n",
    "* Variables are Airflow’s runtime configuration concept - a general key/value store that is global and can be queried from your tasks, and easily set via Airflow’s user interface, or bulk-uploaded as a JSON file."
   ]
  },
  {
   "cell_type": "markdown",
   "id": "residential-details",
   "metadata": {},
   "source": [
    "#### Steps to add/update/delete variable\n",
    "\n",
    "login into airflow UI -> Admin -> Variables -> add/update/delete"
   ]
  },
  {
   "cell_type": "markdown",
   "id": "infrared-weekend",
   "metadata": {},
   "source": [
    "### Example\n",
    "\n",
    " To use them, just import and call get on the Variable model:\n"
   ]
  },
  {
   "cell_type": "code",
   "execution_count": null,
   "id": "floating-membrane",
   "metadata": {},
   "outputs": [],
   "source": [
    "### Syntax\n",
    "\n",
    " To use them, just import and call get on the Variable model:\n",
    " \n",
    "from airflow import DAG\n",
    "from airflow.models import Variable\n",
    "from airflow.operators.python import PythonOperator\n",
    "from airflow.operators.bash import BashOperator\n",
    "from airflow.utils.dates import days_ago\n",
    "\n",
    "\n",
    "def get_name():\n",
    "    return Variable.get(\"myname\")\n",
    "\n",
    "\n",
    "with DAG(dag_id=\"variables\", start_date=days_ago(1),\n",
    "         schedule_interval=\"@daily\",\n",
    "         catchup=False,\n",
    "         tags=['variables']) as dag:\n",
    "    read_variable_task = PythonOperator(\n",
    "        task_id=\"variable_task\",\n",
    "        python_callable=get_name\n",
    "    )\n",
    "\n",
    "    print_name_task= BashOperator(\n",
    "        task_id=\"print_name\",\n",
    "        bash_command= Variable.get(\"mycommand\")\n",
    "    )\n",
    "\n",
    "    read_variable_task >> print_name_task\n"
   ]
  },
  {
   "cell_type": "markdown",
   "id": "catholic-reason",
   "metadata": {},
   "source": [
    "#### Can also use them from templates:"
   ]
  },
  {
   "cell_type": "code",
   "execution_count": null,
   "id": "exclusive-criminal",
   "metadata": {},
   "outputs": [],
   "source": [
    "# Raw value\n",
    "echo {{ var.value.<variable_name> }}\n",
    "\n",
    "# Auto-deserialize JSON value\n",
    "echo {{ var.json.<variable_name> }}"
   ]
  }
 ],
 "metadata": {
  "kernelspec": {
   "display_name": "Python 3",
   "language": "python",
   "name": "python3"
  },
  "language_info": {
   "codemirror_mode": {
    "name": "ipython",
    "version": 3
   },
   "file_extension": ".py",
   "mimetype": "text/x-python",
   "name": "python",
   "nbconvert_exporter": "python",
   "pygments_lexer": "ipython3",
   "version": "3.9.0"
  }
 },
 "nbformat": 4,
 "nbformat_minor": 5
}
