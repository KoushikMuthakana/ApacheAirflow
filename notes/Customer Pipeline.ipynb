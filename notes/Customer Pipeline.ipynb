{
 "cells": [
  {
   "cell_type": "markdown",
   "id": "solar-worse",
   "metadata": {},
   "source": [
    "# Usecase\n",
    "### Customer 360 Team\n",
    "    - Closed orders against the customer\n",
    "    - Text Files --> S3 buckets availble between 5PM and 6PM\n",
    "    \n",
    "    Customer related information\n",
    "     - CRM team provides all the customer information in a pstgresql\n",
    "     \n",
    "     S3(Orders)\n",
    "     Postgresql(Customer Info)\n",
    "         - Order filtering on the cloud orders\n",
    "         - Load both the datasets in HIVE\n",
    "         - Notifications & HBase data loading\n",
    "         \n",
    "      "
   ]
  },
  {
   "cell_type": "markdown",
   "id": "chronic-christianity",
   "metadata": {},
   "source": [
    "# Solution Approach\n",
    "    - S3 files(https connection)\n",
    "    - HTTP Sensor:\n",
    "         - Connection: (Name,Host,Port,Username,password,scheme)\n",
    "    - SSH into spark edgenode\n",
    "           1. Download the files from S3 into edge node\n",
    "           2. Sqoop will fetch the customer info from mysql and dump into Hive\n",
    "           3. Upload S3 order files to HDFS localtion\n",
    "           4. Spark Program <jar> <input params> <output param> \n",
    "           5. Create Hove table from the output path available in step 4\n",
    "           6. Upload into HBase (HBase-Hive COnnectors)\n",
    "           7. Notification on Slack (Success/Failure of pipeline)\n",
    "           "
   ]
  },
  {
   "cell_type": "code",
   "execution_count": null,
   "id": "governing-fancy",
   "metadata": {},
   "outputs": [],
   "source": []
  },
  {
   "cell_type": "code",
   "execution_count": null,
   "id": "latter-lemon",
   "metadata": {},
   "outputs": [],
   "source": []
  },
  {
   "cell_type": "code",
   "execution_count": null,
   "id": "split-today",
   "metadata": {},
   "outputs": [],
   "source": []
  },
  {
   "cell_type": "code",
   "execution_count": null,
   "id": "loaded-astrology",
   "metadata": {},
   "outputs": [],
   "source": []
  }
 ],
 "metadata": {
  "kernelspec": {
   "display_name": "Python 3",
   "language": "python",
   "name": "python3"
  },
  "language_info": {
   "codemirror_mode": {
    "name": "ipython",
    "version": 3
   },
   "file_extension": ".py",
   "mimetype": "text/x-python",
   "name": "python",
   "nbconvert_exporter": "python",
   "pygments_lexer": "ipython3",
   "version": "3.9.0"
  }
 },
 "nbformat": 4,
 "nbformat_minor": 5
}
