{
 "cells": [
  {
   "cell_type": "markdown",
   "id": "acceptable-prisoner",
   "metadata": {},
   "source": [
    "### Task Dependicies"
   ]
  },
  {
   "cell_type": "markdown",
   "id": "bottom-owner",
   "metadata": {},
   "source": [
    "* Tasks dependicis defines how the tasks should execute, like order of execution\n",
    "* Dependicies can be defines using >> or << bit operators "
   ]
  },
  {
   "cell_type": "markdown",
   "id": "pediatric-exchange",
   "metadata": {},
   "source": [
    "#### Example: Simple Dependices, conside there are 3 tasks, T1,T2,T3\n",
    "    i. T2 and T3 should execute only on T1 completes\n",
    "         T1 >> [T2,T3]\n",
    "    \n",
    "    ii. Grouping the tasks\n",
    "            use [], to group the tasks\n",
    "           T1 >> [T2,T3]       \n"
   ]
  },
  {
   "cell_type": "markdown",
   "id": "unauthorized-spyware",
   "metadata": {},
   "source": [
    "### Trigger Rules:\n",
    "* Trigger rules specifies conditional rules to execute/trigger the next tasks based on their parent tasks status.\n",
    "\n",
    "**Consider the 3 tasks, T1,T2,T3.  \n",
    "     Simple dependency  [T1,T2] >> T3**\n",
    "#### Types of trigger rules\n",
    "i. **all_success**: The child tasks only executes if all the parent tasks are successful.\n",
    "     In the above dependency, both the tasks T1 and T2 should be success state then only T3 will get execute.\n",
    "     \n",
    "ii. **all_failed**: The child tasks only executes if all the parent tasks are failed.\n",
    "     In the above dependency, both the tasks T1 and T2 should be failed state then only T3 will get execute.\n",
    "     \n",
    "iii. **all_done**: The child tasks only executes if all the parent tasks execution completes, status can be either Success or failed.\n",
    "     In the above dependency, both the tasks T1 and T2 should completes the execution(can be either success/failed) then only T3 will get execute.\n",
    "     \n",
    "iv. **one_failed**: The child tasks only executes only if atleast one of the parent tasks is failed.\n",
    "     In the above dependency, atleast one tasks T1 or T2 should be failed state then only T3 will get execute.\n",
    "\n",
    "v. **one_success**: The child tasks only executes only if atleast one of the parent tasks is success.\n",
    "     In the above dependency, atleast one tasks T1 or T2 should be success state then only T3 will get execute.\n",
    "\n",
    "vi. **none_failed**: The child tasks only executes only if atleast all the parent tasks should be success or skipped.\n",
    "     In the above dependency, atleast one tasks T1 or T2 should be success state or skipped state then only T3 will get execute.\n",
    "\n",
    "\n"
   ]
  },
  {
   "cell_type": "markdown",
   "id": "solved-confirmation",
   "metadata": {},
   "source": [
    "#### Syntax:\n",
    "from airflow import DAG\n",
    "from airflow.utils.dates import days_ago\n",
    "from airflow.operators.bash import BashOperator\n",
    "\n",
    "#### Using Context Manager, Grouping all the tags\n",
    "with DAG(\n",
    "    \n",
    "     dag_id='BASH_OPERATOR_SEQUENCE_EXAMPLE',\n",
    "     description=\"This DAG shows the simple bash sequence tasks\",\n",
    "     schedule_interval=\"@daily\",\n",
    "     start_date=days_ago(1),\n",
    "     catchup=False) as dag:\n",
    "         \n",
    "    task1 = BashOperator(\n",
    "        task_id=\"task1\",\n",
    "        bash_command=\"echo task 1\",\n",
    "\n",
    "    )\n",
    "    task2 = BashOperator(\n",
    "        task_id=\"task2\",\n",
    "        bash_command=\"echo task 2 && exit 1\"\n",
    "    )\n",
    "    task3 = BashOperator(\n",
    "        task_id=\"task3\",\n",
    "        bash_command=\"echo task 3\",\n",
    "        trigger_rule=\"one_failed\"\n",
    "    )\n",
    "    task4 = BashOperator(\n",
    "        task_id=\"task4\",\n",
    "        bash_command=\"echo task 4\"\n",
    "    )\n",
    "\n",
    "    # Dependencies between the tasks\n",
    "    task2 >> [task1,task3, task4]\n",
    "\n"
   ]
  },
  {
   "cell_type": "code",
   "execution_count": null,
   "id": "czech-twist",
   "metadata": {},
   "outputs": [],
   "source": []
  }
 ],
 "metadata": {
  "kernelspec": {
   "display_name": "Python 3",
   "language": "python",
   "name": "python3"
  },
  "language_info": {
   "codemirror_mode": {
    "name": "ipython",
    "version": 3
   },
   "file_extension": ".py",
   "mimetype": "text/x-python",
   "name": "python",
   "nbconvert_exporter": "python",
   "pygments_lexer": "ipython3",
   "version": "3.9.0"
  }
 },
 "nbformat": 4,
 "nbformat_minor": 5
}
