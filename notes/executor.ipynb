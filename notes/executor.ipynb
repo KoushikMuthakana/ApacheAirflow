{
 "cells": [
  {
   "cell_type": "markdown",
   "metadata": {},
   "source": [
    "# Executor:\n",
    "                Defines how a tasks should be executed,There are different types of executer\n",
    "                * Sequential Executer\n",
    "                * Local executor \n",
    "                * Celery"
   ]
  },
  {
   "cell_type": "markdown",
   "metadata": {},
   "source": [
    "#### DAG: \n",
    " * A DAG (Directed Acyclic Graph) is a finite graph doesn't have any cycles(loops)\n",
    " * In Apache airflow, DAG represents collections of tasks to run, orginized in a way that represent their dependencies and relationships.\n",
    " * Each node is a task\n",
    " * Each edge is a Dependency\n",
    " \n",
    " Eg:\n",
    "     A --> B --> C\n",
    "     \n",
    "     Nodes: A,B.C\n",
    "     * Task B has to complete before task C starts, C depends on B\n",
    "     * Task A has to complete before task A starts, B depends on A\n",
    "     \n",
    "i.e -\n",
    "    \n",
    "*         Node A - Download the data\n",
    "*         Node B - Send data for processing\n",
    "*         Node C - Process the data\n",
    "    \n",
    "#### Important Properties:\n",
    "* DAGs are defined by python files placed into Airflow's DAG_FOLDER (Usually ~/airflow/dags), can be configurable\n",
    "* dag_id - A unique identifier for DAG\n",
    "* description - Description of DAG\n",
    "* start_date - tell when DAG should start\n",
    "* schedule_interval - defines how often DAG should run\n",
    "* depend_on_past - run the next DAGRun if the previous one completed successfully\n",
    "* default_args - A dictonary variables to be used as constructor keyword parameter when initializing operators"
   ]
  },
  {
   "cell_type": "markdown",
   "metadata": {},
   "source": [
    "---\n",
    "#### Operator:\n",
    "- While DAG describes how to run a workflow, Operators determines what actually gets done\n",
    "- An operatr describes as a single task in a workflow\n",
    "- An operators are mostly atomic, means run independently with sharing rosources with any other operators, but not in always\n",
    "    \n",
    "#### Key points:\n",
    "    - Definitions of single task in workflow\n",
    "    - Should be idempotent - Produce same results regarless of how many times it is run\n",
    "    - Retry automatically - In case of failure\n",
    "    - A task is created by instantiating as operator class\n",
    "    - An operator defines the nature of task and how it should be executed\n",
    "    - When an operator is instantiated, this task should become node in DAG\n",
    "\n",
    "#### Types of Operators\n",
    "- All the operators inherit from the BaseOperator\n",
    "- There are three types of operators\n",
    "    1. Action Operatos - Performs an actions, Bash,python,Email Operators.....\n",
    "    2. Transfer Operators - Moves the data, MySql,Sqlite,postgres....\n",
    "    3. Sensor Operatoes - Waiting the data to arrive at a defined locations\n",
    "\n",
    "#### Available Operators\n",
    "    1. BashOperator -> Executes bash commands\n",
    "    2. PythonOperator - > Executes python functions\n",
    "    3. EmailOperator -> Sends a emails\n",
    "    4. DataBase Operators - MySqlOperator,SqliteOperator,PostgreOperator ....\n",
    "    "
   ]
  },
  {
   "cell_type": "code",
   "execution_count": null,
   "metadata": {},
   "outputs": [],
   "source": []
  },
  {
   "cell_type": "code",
   "execution_count": null,
   "metadata": {},
   "outputs": [],
   "source": []
  }
 ],
 "metadata": {
  "kernelspec": {
   "display_name": "Python 3",
   "language": "python",
   "name": "python3"
  },
  "language_info": {
   "codemirror_mode": {
    "name": "ipython",
    "version": 3
   },
   "file_extension": ".py",
   "mimetype": "text/x-python",
   "name": "python",
   "nbconvert_exporter": "python",
   "pygments_lexer": "ipython3",
   "version": "3.8.5"
  }
 },
 "nbformat": 4,
 "nbformat_minor": 4
}
